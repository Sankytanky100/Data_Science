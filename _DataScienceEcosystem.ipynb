{
 "cells": [
  {
   "cell_type": "markdown",
   "id": "821ef979",
   "metadata": {},
   "source": [
    "# Data Science Tools and Ecosystem"
   ]
  },
  {
   "cell_type": "markdown",
   "id": "27b18d4e",
   "metadata": {},
   "source": [
    "##In this notebook, Data Science Tools and Ecosystem are summarized.\n",
    "\n",
    "Objective\n",
    "In this final assignment, you will:\n",
    "\n",
    "Create a Jupyter Notebook\n",
    "\n",
    "Insert code and markdown cells\n",
    "\n",
    "Share your notebook through GitHub"
   ]
  },
  {
   "cell_type": "code",
   "execution_count": null,
   "id": "b0331257",
   "metadata": {},
   "outputs": [],
   "source": [
    "Some of the popular languages that Data Scientists use are\n",
    "ordered_list_1 = ('python', 'java', 'R')"
   ]
  },
  {
   "cell_type": "code",
   "execution_count": null,
   "id": "61019dd7",
   "metadata": {},
   "outputs": [],
   "source": [
    "Some of the commonly used libraries used by Data Scientists include:\n",
    "ordered_list_2 = (NumPy,Pandas,Matplotlib)\n"
   ]
  },
  {
   "cell_type": "markdown",
   "id": "6d79e552",
   "metadata": {},
   "source": [
    "## Data Science Tools \n"
   ]
  },
  {
   "cell_type": "code",
   "execution_count": null,
   "id": "62c71363",
   "metadata": {},
   "outputs": [],
   "source": [
    "Jupyter Notebooks / JupyterLab"
   ]
  },
  {
   "cell_type": "code",
   "execution_count": null,
   "id": "8f579145",
   "metadata": {},
   "outputs": [],
   "source": [
    "RStudio"
   ]
  },
  {
   "cell_type": "code",
   "execution_count": null,
   "id": "afb96d81",
   "metadata": {},
   "outputs": [],
   "source": [
    "Visual Studio Code (VS Code)\n"
   ]
  },
  {
   "cell_type": "markdown",
   "id": "4f17052a",
   "metadata": {},
   "source": [
    "### Below are a few examples of evaluating arithmetic expressions in Python"
   ]
  },
  {
   "cell_type": "code",
   "execution_count": 1,
   "id": "08ee06b5",
   "metadata": {},
   "outputs": [
    {
     "data": {
      "text/plain": [
       "17"
      ]
     },
     "execution_count": 1,
     "metadata": {},
     "output_type": "execute_result"
    }
   ],
   "source": [
    "(3*4)+5 #This a simple arithmetic expression to mutiply then add integers."
   ]
  },
  {
   "cell_type": "code",
   "execution_count": 6,
   "id": "d45dcba5",
   "metadata": {
    "scrolled": false
   },
   "outputs": [
    {
     "data": {
      "text/plain": [
       "3"
      ]
     },
     "execution_count": 6,
     "metadata": {},
     "output_type": "execute_result"
    }
   ],
   "source": [
    "200 // 60 #minutes into hours # This will convert 200 minutes to hours by diving by 60"
   ]
  },
  {
   "cell_type": "markdown",
   "id": "45564ffd",
   "metadata": {},
   "source": [
    "### Objectives:\n",
    "popular_languages = [\n",
    "    'Python',\n",
    "    'R',\n",
    "    'Julia',\n",
    "    'SQL']"
   ]
  },
  {
   "cell_type": "markdown",
   "id": "3fee6726",
   "metadata": {},
   "source": [
    "## Author Lakshmi Holla, Niveditha Pandith\n",
    "\n",
    "## Other contributor(s) Rav Ahuja, Malika Singla\n",
    "\n",
    "Name - Sankalp Tripathi"
   ]
  }
 ],
 "metadata": {
  "kernelspec": {
   "display_name": "Python 3 (ipykernel)",
   "language": "python",
   "name": "python3"
  },
  "language_info": {
   "codemirror_mode": {
    "name": "ipython",
    "version": 3
   },
   "file_extension": ".py",
   "mimetype": "text/x-python",
   "name": "python",
   "nbconvert_exporter": "python",
   "pygments_lexer": "ipython3",
   "version": "3.11.5"
  }
 },
 "nbformat": 4,
 "nbformat_minor": 5
}
